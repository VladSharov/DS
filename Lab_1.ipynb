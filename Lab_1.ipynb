{
 "cells": [
  {
   "cell_type": "markdown",
   "metadata": {},
   "source": [
    "# Lab 1 - Python introduction\n"
   ]
  },
  {
   "cell_type": "markdown",
   "metadata": {},
   "source": [
    "### Exercise 0 - Example\n",
    "Assign the number 31 to a new variable, q. Write an expression that raises q to the 4th power "
   ]
  },
  {
   "cell_type": "code",
   "execution_count": 3,
   "metadata": {},
   "outputs": [
    {
     "data": {
      "text/plain": [
       "923521"
      ]
     },
     "execution_count": 3,
     "metadata": {},
     "output_type": "execute_result"
    }
   ],
   "source": [
    "q = 31\n",
    "q**4"
   ]
  },
  {
   "cell_type": "markdown",
   "metadata": {},
   "source": [
    "### Exercise 1\n",
    "Create arbitrary list, tuple and dictionary and print them"
   ]
  },
  {
   "cell_type": "code",
   "execution_count": 6,
   "metadata": {},
   "outputs": [
    {
     "name": "stdout",
     "output_type": "stream",
     "text": [
      "['D', 'a', 't', 'a', ' ', 's', 'c', 'i', 'e', 'n', 'c', 'e']\n",
      "('D', 'a', 't', 'a', ' ', 's', 'c', 'i', 'e', 'n', 'c', 'e')\n",
      "{1: 5, 2: 5, 3: 6}\n"
     ]
    }
   ],
   "source": [
    "a = list('Data science')\n",
    "b = tuple('Data science')\n",
    "c = dict([(1,5),(2,5),(3,6)])\n",
    "print(a)\n",
    "print(b)\n",
    "print(c)"
   ]
  },
  {
   "cell_type": "markdown",
   "metadata": {},
   "source": [
    "### Exercise 2\n",
    "Print the next elements of array s: 10th, from 10 to 20, all elements more than 0 "
   ]
  },
  {
   "cell_type": "code",
   "execution_count": 7,
   "metadata": {},
   "outputs": [
    {
     "name": "stdout",
     "output_type": "stream",
     "text": [
      "0.4943924436796703\n",
      "[ 0.49439244  0.28269197 -0.46769029 -0.25050851  0.12326276 -0.56695588\n",
      "  1.34919707 -0.95839565 -1.88906525 -0.06600947]\n",
      "[1.3519116527808277, 0.26487234647260705, 0.5004802017408023, 1.1855470830807517, 0.4943924436796703, 0.2826919746293091, 0.12326276048983642, 1.3491970705410614, 1.2756670530021326, 2.3636553793040584, 0.4383250392510679, 0.41773451345248264, 0.3620297936338931, 1.0322009714619627, 0.4265016234381225, 1.6467507115176518, 0.10662716658731479, 1.5475553355884966, 0.8994174488544626, 0.5655242258185992, 0.6055922053717548, 0.3034202180541355, 1.0992265029692585, 0.1061773984005765, 0.9981270196748733, 1.0417605050566567, 0.645035257421305, 1.4908971172567063, 0.5580796490343973, 0.35958384817081407, 0.58776807412331, 1.1196630519000497, 0.5186789299351617, 1.0246522999500536, 0.43361771302457525, 0.57650525173722, 0.6526536193442051, 1.3703440339691135, 0.6822180210095672, 0.35578297962764693, 1.5828751928070548, 0.9645099919744284, 0.5065609069476777, 0.7982953364183887, 1.6862325299928678, 2.3445958412287253, 0.3246766253529911, 1.378175234522496, 1.052744330812623, 2.785180933571603, 1.8211586230644676, 1.0171560556699888]\n"
     ]
    }
   ],
   "source": [
    "import numpy as np\n",
    "s = np.random.normal(0,1,100)\n",
    "\n",
    "import numpy as np\n",
    "s = np.random.normal(0,1,100)\n",
    "print(s[10])\n",
    "print(s[10:20])\n",
    "x = [x for x in s if x>0]\n",
    "print(x)\n"
   ]
  },
  {
   "cell_type": "markdown",
   "metadata": {},
   "source": [
    "### Exercise 3\n",
    "Make a function `pow` that raised base `number` to a fixed power `power`. If `power >= 50` print message \"power is too big\" and return `-1`"
   ]
  },
  {
   "cell_type": "code",
   "execution_count": 8,
   "metadata": {},
   "outputs": [
    {
     "name": "stdout",
     "output_type": "stream",
     "text": [
      "power is too big\n",
      "-1\n",
      "20\n"
     ]
    }
   ],
   "source": [
    "def pow(number, power):\n",
    "    if power>=50:\n",
    "        print(\"power is too big\")\n",
    "        return -1\n",
    "    else:\n",
    "        number = power\n",
    "        return number\n",
    "print(pow(4, 50))\n",
    "print(pow(4, 20))\n"
   ]
  },
  {
   "cell_type": "markdown",
   "metadata": {},
   "source": [
    "### Exercise 4\n",
    "Make a function `above(x,n)` which returns all elements `x > n`. By default `x = 10`. Use numpy arrays"
   ]
  },
  {
   "cell_type": "code",
   "execution_count": 9,
   "metadata": {},
   "outputs": [
    {
     "name": "stdout",
     "output_type": "stream",
     "text": [
      "[4, 5, 6, 7, 8, 9, 10]\n"
     ]
    }
   ],
   "source": [
    "import numpy as np\n",
    "# Your answer here\n",
    "def above(n, x = 10):\n",
    "    result = []\n",
    "    for i in x:\n",
    "        if i > n:\n",
    "            result.append(i)\n",
    "        else:\n",
    "            continue\n",
    "    return result\n",
    "print(above(3, [1,2,3,4,5,6,7,8,9,10]))"
   ]
  },
  {
   "cell_type": "markdown",
   "metadata": {},
   "source": [
    "### Exercise 5\n",
    "Write a function `my_ifelse(x, exp, n)` which test array `x` with expression `exp` to number `n`. For instance, `my_ifelse(x,'>=',10)` returns all elements of array `x` which greater or equal 10. `exp` can be `<`, `>`, `<=`, `>=`, `==`. If `exp` dont match these expression array `x` is retured"
   ]
  },
  {
   "cell_type": "code",
   "execution_count": 10,
   "metadata": {},
   "outputs": [
    {
     "name": "stdout",
     "output_type": "stream",
     "text": [
      "[10]\n",
      "[10, 54, 75]\n",
      "[1, 2, 3, 10]\n",
      "[54, 75]\n",
      "[1, 2, 3]\n",
      "[1, 2, 3, 10, 54, 75]\n"
     ]
    }
   ],
   "source": [
    "import numpy as np\n",
    "\n",
    "def my_ifelse(x, exp, n):\n",
    "    if exp == '==':\n",
    "        x = [i for i in x if i == n]\n",
    "        return x\n",
    "    elif exp == '<':\n",
    "        x = [i for i in x if i < n]\n",
    "        return x\n",
    "    elif exp == '>':\n",
    "        x = [i for i in x if i > n]\n",
    "        return x\n",
    "    elif exp == '<=':\n",
    "        x = [i for i in x if i <= n]\n",
    "        return x\n",
    "    elif exp == '>=':\n",
    "        x = [i for i in x if i >= n]\n",
    "        return x\n",
    "    else:\n",
    "        return x\n",
    "\n",
    "x = [1, 2, 3, 10, 54, 75]\n",
    "\n",
    "print(my_ifelse(x,'==', 10))\n",
    "print(my_ifelse(x,'>=', 10))\n",
    "print(my_ifelse(x,'<=', 10))\n",
    "print(my_ifelse(x,'>', 10))\n",
    "print(my_ifelse(x,'<', 10))\n",
    "print(my_ifelse(x,'a', 10))"
   ]
  },
  {
   "cell_type": "markdown",
   "metadata": {},
   "source": [
    "### Exercise 6\n",
    "Make a function called `counter` that takes a string input_string and returns a dictionary of letter counts."
   ]
  },
  {
   "cell_type": "code",
   "execution_count": 11,
   "metadata": {},
   "outputs": [
    {
     "name": "stdout",
     "output_type": "stream",
     "text": [
      "{'D': 1, 'a': 2, 't': 1, ' ': 1, 's': 1, 'c': 2, 'i': 1, 'e': 2, 'n': 1}\n"
     ]
    }
   ],
   "source": [
    "def counter (input_string):\n",
    "    count_letters = {}\n",
    "    for letter in input_string:\n",
    "        if letter in count_letters:\n",
    "                count_letters[letter] += 1\n",
    "        else:\n",
    "            count_letters[letter] = 1\n",
    "    return count_letters\n",
    "print(counter('Data science'))\n"
   ]
  },
  {
   "cell_type": "markdown",
   "metadata": {},
   "source": [
    "### Exercise 7\n",
    "From the function `counter` make function `counter_sorted` with second boolean argumens `reverse` that returns sorted letter counts. Order depends of the `reverse` argument. By default `reverse = False`"
   ]
  },
  {
   "cell_type": "code",
   "execution_count": 12,
   "metadata": {},
   "outputs": [
    {
     "name": "stdout",
     "output_type": "stream",
     "text": [
      "{'D': 1, 't': 1, ' ': 1, 's': 1, 'i': 1, 'n': 1, 'a': 2, 'c': 2, 'e': 2}\n"
     ]
    }
   ],
   "source": [
    "def counter_sorted (input_string, r):\n",
    "    count_letters = {}\n",
    "    for letter in input_string:\n",
    "        if letter in count_letters:\n",
    "                count_letters[letter] += 1\n",
    "        else:\n",
    "            count_letters[letter] = 1\n",
    "    return dict(sorted(count_letters.items(), key=lambda x: x[1], reverse=r))\n",
    "print(counter_sorted('Data science', 0))"
   ]
  },
  {
   "cell_type": "code",
   "execution_count": null,
   "metadata": {},
   "outputs": [],
   "source": []
  },
  {
   "cell_type": "code",
   "execution_count": null,
   "metadata": {},
   "outputs": [],
   "source": []
  }
 ],
 "metadata": {
  "kernelspec": {
   "display_name": "Python 3",
   "language": "python",
   "name": "python3"
  },
  "language_info": {
   "codemirror_mode": {
    "name": "ipython",
    "version": 3
   },
   "file_extension": ".py",
   "mimetype": "text/x-python",
   "name": "python",
   "nbconvert_exporter": "python",
   "pygments_lexer": "ipython3",
   "version": "3.8.8"
  }
 },
 "nbformat": 4,
 "nbformat_minor": 4
}
